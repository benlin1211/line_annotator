{
 "cells": [
  {
   "cell_type": "code",
   "execution_count": 1,
   "metadata": {},
   "outputs": [
    {
     "data": {
      "text/plain": [
       "True"
      ]
     },
     "execution_count": 1,
     "metadata": {},
     "output_type": "execute_result"
    }
   ],
   "source": [
    "import cv2\n",
    "annotation = cv2.imread(\"./segmentataion_result/annotation/0727-0933-0162-img00_UV.bmp\", cv2.IMREAD_GRAYSCALE)\n",
    "image_original = cv2.imread(\"./segmentataion_result/image/0727-0933-0162-img00.bmp\", cv2.IMREAD_GRAYSCALE)\n",
    "\n",
    "save_path = \"./segmentataion_result/combined/combined_0727-0933-0162-img00.bmp\"\n",
    "\n",
    "combined_image = cv2.addWeighted(image_original, 1, annotation, 1, 0)\n",
    "cv2.imwrite(save_path, combined_image)"
   ]
  }
 ],
 "metadata": {
  "kernelspec": {
   "display_name": "mae",
   "language": "python",
   "name": "python3"
  },
  "language_info": {
   "codemirror_mode": {
    "name": "ipython",
    "version": 3
   },
   "file_extension": ".py",
   "mimetype": "text/x-python",
   "name": "python",
   "nbconvert_exporter": "python",
   "pygments_lexer": "ipython3",
   "version": "3.10.11"
  }
 },
 "nbformat": 4,
 "nbformat_minor": 2
}
